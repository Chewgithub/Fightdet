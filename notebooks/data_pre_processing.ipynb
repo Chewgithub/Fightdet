{
 "cells": [
  {
   "cell_type": "markdown",
   "id": "19ceeb20",
   "metadata": {},
   "source": [
    "# Importing dependencies"
   ]
  },
  {
   "cell_type": "code",
   "execution_count": 37,
   "id": "07d88b07",
   "metadata": {},
   "outputs": [],
   "source": [
    "import os\n",
    "import numpy as np"
   ]
  },
  {
   "cell_type": "markdown",
   "id": "07b72d0d",
   "metadata": {},
   "source": [
    "# Get Data"
   ]
  },
  {
   "cell_type": "code",
   "execution_count": 12,
   "id": "f53c3143",
   "metadata": {},
   "outputs": [],
   "source": [
    "raw_data_path='video_example/modelling/train/Fight/'\n",
    "target_path='output'"
   ]
  },
  {
   "cell_type": "code",
   "execution_count": 27,
   "id": "087ef54c",
   "metadata": {},
   "outputs": [],
   "source": [
    "def process_data(raw_data_path, target_path,n_videos=3):\n",
    "     for video in range(n_videos):\n",
    "            video_name=os.listdir(raw_data_path)[video]\n",
    "            video_path=os.path.join(raw_data_path,video_name)\n",
    "            \n",
    "            numpy_file=video_to_numpy(video_path, getopticalflow=False)\n",
    "            \n",
    "            save_path = os.path.join(target_path, video_name+'.npy') \n",
    "            numpy_file = np.uint8(numpy_file)\n",
    "            \n",
    "            np.save(save_path, numpy_file)\n",
    "            \n",
    "        return f'{n_videos} videos converted!'"
   ]
  },
  {
   "cell_type": "code",
   "execution_count": null,
   "id": "9e6acbb9",
   "metadata": {},
   "outputs": [],
   "source": []
  },
  {
   "cell_type": "code",
   "execution_count": null,
   "id": "a418d922",
   "metadata": {},
   "outputs": [],
   "source": []
  }
 ],
 "metadata": {
  "kernelspec": {
   "display_name": "Python 3 (ipykernel)",
   "language": "python",
   "name": "python3"
  },
  "language_info": {
   "codemirror_mode": {
    "name": "ipython",
    "version": 3
   },
   "file_extension": ".py",
   "mimetype": "text/x-python",
   "name": "python",
   "nbconvert_exporter": "python",
   "pygments_lexer": "ipython3",
   "version": "3.10.4"
  }
 },
 "nbformat": 4,
 "nbformat_minor": 5
}
